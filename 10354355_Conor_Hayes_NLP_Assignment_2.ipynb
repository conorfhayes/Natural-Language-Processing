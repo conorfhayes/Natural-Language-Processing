{
  "nbformat": 4,
  "nbformat_minor": 0,
  "metadata": {
    "colab": {
      "name": "10354355_Conor_Hayes_NLP_Assignment_2.ipynb",
      "version": "0.3.2",
      "provenance": [],
      "collapsed_sections": []
    },
    "kernelspec": {
      "display_name": "Python 3",
      "language": "python",
      "name": "python3"
    }
  },
  "cells": [
    {
      "metadata": {
        "id": "sC-LZ20S_WUr",
        "colab_type": "text"
      },
      "cell_type": "markdown",
      "source": [
        "# Information Extraction - Assignment\n",
        "This assignment is based on the Information Extraction lecture and the lab.\n"
      ]
    },
    {
      "metadata": {
        "id": "9xqCFJBv_WUt",
        "colab_type": "code",
        "outputId": "f37daae7-5dea-490c-bcfb-26584aa41528",
        "colab": {
          "base_uri": "https://localhost:8080/",
          "height": 204
        }
      },
      "cell_type": "code",
      "source": [
        "import nltk\n",
        "import json\n",
        "nltk.download('punkt')\n",
        "nltk.download('averaged_perceptron_tagger')\n",
        "nltk.download('maxent_ne_chunker')\n",
        "nltk.download('words')\n",
        "import re\n",
        "from statistics import mode\n",
        "from google.colab import files\n",
        "import io"
      ],
      "execution_count": 53,
      "outputs": [
        {
          "output_type": "stream",
          "text": [
            "[nltk_data] Downloading package punkt to /root/nltk_data...\n",
            "[nltk_data]   Package punkt is already up-to-date!\n",
            "[nltk_data] Downloading package averaged_perceptron_tagger to\n",
            "[nltk_data]     /root/nltk_data...\n",
            "[nltk_data]   Package averaged_perceptron_tagger is already up-to-\n",
            "[nltk_data]       date!\n",
            "[nltk_data] Downloading package maxent_ne_chunker to\n",
            "[nltk_data]     /root/nltk_data...\n",
            "[nltk_data]   Package maxent_ne_chunker is already up-to-date!\n",
            "[nltk_data] Downloading package words to /root/nltk_data...\n",
            "[nltk_data]   Package words is already up-to-date!\n"
          ],
          "name": "stdout"
        }
      ]
    },
    {
      "metadata": {
        "id": "m0mo13vi_WUx",
        "colab_type": "code",
        "outputId": "0d04bafa-adda-4a06-9aad-cc91ada5a08f",
        "colab": {
          "resources": {
            "http://localhost:8080/nbextensions/google.colab/files.js": {
              "data": "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",
              "ok": true,
              "headers": [
                [
                  "content-type",
                  "application/javascript"
                ]
              ],
              "status": 200,
              "status_text": ""
            }
          },
          "base_uri": "https://localhost:8080/",
          "height": 106
        }
      },
      "cell_type": "code",
      "source": [
        "#inputfile='../football_players.txt' #Location of the file\n",
        "#buf=open(inputfile, encoding=\"UTF-8\")\n",
        "#list_of_doc=buf.read().split('\\n')\n",
        "\n",
        "uploaded = files.upload()\n",
        "file = io.StringIO(uploaded['football_players.txt'].decode('utf-8')).read().split('\\n')\n",
        "# deletes any spaces \n",
        "list_of_doc = [x for x in file if x !='\\r']\n",
        "print(list_of_doc[0])\n",
        "\n",
        "l = []\n",
        "# remove \"\" in document, as they alter the ne_chunk and POS tagging and make them return wrong results\n",
        "for i in list_of_doc:\n",
        "    for k in i:\n",
        "        if k == '\"':\n",
        "            i = i.replace('\"', '')\n",
        "    if len(i) != 0:\n",
        "        l.append(i)\n",
        "        \n",
        "list_of_doc = l\n",
        "\n",
        "# setting up lookups to be refer to in certain code sections\n",
        "countries = ['Spain', 'England', 'Portugal', 'Wales', 'England', 'Brazil', 'Germany', 'Argentina', 'Sweden']\n",
        "clubs = ['Manchester United', \"Barcelona FC\", \"FC\", \"Real\",  \"Real Madrid\"]\n",
        "nationalities = [\"English\", \"Spanish\", \"Portuguese\", \"Irish\", \"Swedish\", 'English', \"Brazilian\", \"German\"]\n",
        "position_list = [\"forward\", \"goalkeeper\", \"left-back\", \"right-back\", \"defensive midfield\", \"centre back\", \"sweeper\",\n",
        "                     \"wing back\", \"centre midfield\", \"attacking midfield\", \"striker\", \"midfield\", \"central midfield\", \"left midfield\",\n",
        "                     \"right midfield\", \"right winger\", \"winger\"]\n",
        "months_of_year = [\"Janruary\", \"February\", \"March\", \"April\", \"May\", \"June\", \"July\", \"August\", \"September\", \"October\", \"November\", \"December\"]"
      ],
      "execution_count": 54,
      "outputs": [
        {
          "output_type": "display_data",
          "data": {
            "text/html": [
              "\n",
              "     <input type=\"file\" id=\"files-22ee4aa0-c707-4924-b6cf-ce015f986d97\" name=\"files[]\" multiple disabled />\n",
              "     <output id=\"result-22ee4aa0-c707-4924-b6cf-ce015f986d97\">\n",
              "      Upload widget is only available when the cell has been executed in the\n",
              "      current browser session. Please rerun this cell to enable.\n",
              "      </output>\n",
              "      <script src=\"/nbextensions/google.colab/files.js\"></script> "
            ],
            "text/plain": [
              "<IPython.core.display.HTML object>"
            ]
          },
          "metadata": {
            "tags": []
          }
        },
        {
          "output_type": "stream",
          "text": [
            "Saving football_players.txt to football_players (1).txt\n",
            "Cristiano Ronaldo dos Santos Aveiro, ComM, GOIH (born 5 February 1985) is a Portuguese professional footballer who plays for Spanish club Real Madrid and the Portugal national team. He is a forward and serves as captain for Portugal. In 2008, he won his first Ballon d'Or and FIFA World Player of the Year awards. He then won the FIFA Ballon d'Or in 2013 and 2014. In 2015, Ronaldo scored his 500th senior career goal for club and country. Often ranked as the best player in the world, Ronaldo was named the best Portuguese player of all time by the Portuguese Football Federation, during its 100th anniversary celebrations in 2015. He is the only player to win four European Golden Shoe awards. One of the most marketable athletes in sport, in 2016 Forbes named Ronaldo the world's best paid athlete. In June 2016, ESPN ranked him the world's most famous athlete. Ronaldo began his club career playing for Sporting CP, before signing with Manchester United at age 18 in 2003. After winning his first trophy, the FA Cup, during his first season in England, he helped United win three successive Premier League titles, a UEFA Champions League title, and a FIFA Club World Cup. By age 23, he had received Ballon d'Or and FIFA World Player of the Year nominations. He was the subject of the most expensive association football transfer when he moved from Manchester United to Real Madrid in 2009 in a transfer worth €94 million ($132 million). In Spain, he has since won one La Liga title, two Copas del Rey, two Champions League titles, and a Club World Cup. Ronaldo holds the record for most goals scored in a single UEFA Champions League season, having scored 17 goals in the 2013–14 season. In 2014, Ronaldo became the fastest player to score 200 goals in La Liga, which he accomplished in his 178th La Liga game. He is the only player in the history of football to score 50 or more goals in a season on six consecutive occasions. In 2015, Ronaldo became the all-time top goalscorer in the UEFA Champions League, and he also became Real Madrid's all-time leading goalscorer. He is the second highest goalscorer in La Liga history behind Lionel Messi, his perceived career rival. Ronaldo made his international debut for Portugal in August 2003, at the age of 18. He is Portugal's most capped player of all time with over 130 caps, and has participated in seven major tournaments: four UEFA European Championships (2004, 2008, 2012 and 2016) and three FIFA World Cups (2006, 2010 and 2014). He is the first Portuguese player to reach 50 international goals, making him Portugal's all-time top goalscorer. He scored his first international goal in Euro 2004 and helped Portugal reach the final. He took over captaincy in July 2008, and he led Portugal to the semi-finals at Euro 2012, finishing the competition as joint-top scorer. In November 2014, Ronaldo became the all-time top scorer in the UEFA European Championship (including qualifying) with 23 goals. At Euro 2016, he became the most capped player of all-time in the tournament, the first player to score at four consecutive European Championship finals, and also equalled Michel Platini's all-time record for most goals scored in the competition. Ronaldo lifted the trophy after Portugal defeated France in the final, and he received the Silver Boot as one of the second-highest goalscorers of the tournament.\n"
          ],
          "name": "stdout"
        }
      ]
    },
    {
      "metadata": {
        "id": "DCEJrJ-p_WU1",
        "colab_type": "text"
      },
      "cell_type": "markdown",
      "source": [
        "# Task 1 (10 Marks)\n",
        "Write a function that takes each document and performs:\n",
        "1) sentence segmentation 2) tokenization 3) part-of-speech tagging\n",
        "\n",
        "Please keep in mind that the expected output is a list within a list as shown below.\n"
      ]
    },
    {
      "metadata": {
        "id": "U3MCJIcR_WU2",
        "colab_type": "code",
        "colab": {}
      },
      "cell_type": "code",
      "source": [
        "def ie_preprocess(documents):\n",
        "\n",
        "    pos_sentences = nltk.sent_tokenize(documents)\n",
        "    pos_sentences = [nltk.word_tokenize(sent) for sent in pos_sentences]\n",
        "    pos_sentences = [nltk.pos_tag(sent) for sent in pos_sentences]\n",
        "    return pos_sentences\n",
        "\n"
      ],
      "execution_count": 0,
      "outputs": []
    },
    {
      "metadata": {
        "id": "-E04CUNb_WU6",
        "colab_type": "text"
      },
      "cell_type": "markdown",
      "source": [
        "Run the following code to check your result for the first document (Ronaldo)."
      ]
    },
    {
      "metadata": {
        "id": "R30taRgf_WU6",
        "colab_type": "code",
        "outputId": "dd0e1e02-1961-4fce-da47-f4e8a130192a",
        "colab": {
          "base_uri": "https://localhost:8080/",
          "height": 11152
        }
      },
      "cell_type": "code",
      "source": [
        "first_doc=list_of_doc[0]\n",
        "pos_sent=ie_preprocess(first_doc)\n",
        "pos_sent"
      ],
      "execution_count": 56,
      "outputs": [
        {
          "output_type": "execute_result",
          "data": {
            "text/plain": [
              "[[('Cristiano', 'NNP'),\n",
              "  ('Ronaldo', 'NNP'),\n",
              "  ('dos', 'NN'),\n",
              "  ('Santos', 'NNP'),\n",
              "  ('Aveiro', 'NNP'),\n",
              "  (',', ','),\n",
              "  ('ComM', 'NNP'),\n",
              "  (',', ','),\n",
              "  ('GOIH', 'NNP'),\n",
              "  ('(', '('),\n",
              "  ('born', 'VBN'),\n",
              "  ('5', 'CD'),\n",
              "  ('February', 'NNP'),\n",
              "  ('1985', 'CD'),\n",
              "  (')', ')'),\n",
              "  ('is', 'VBZ'),\n",
              "  ('a', 'DT'),\n",
              "  ('Portuguese', 'JJ'),\n",
              "  ('professional', 'JJ'),\n",
              "  ('footballer', 'NN'),\n",
              "  ('who', 'WP'),\n",
              "  ('plays', 'VBZ'),\n",
              "  ('for', 'IN'),\n",
              "  ('Spanish', 'JJ'),\n",
              "  ('club', 'NN'),\n",
              "  ('Real', 'NNP'),\n",
              "  ('Madrid', 'NNP'),\n",
              "  ('and', 'CC'),\n",
              "  ('the', 'DT'),\n",
              "  ('Portugal', 'NNP'),\n",
              "  ('national', 'JJ'),\n",
              "  ('team', 'NN'),\n",
              "  ('.', '.')],\n",
              " [('He', 'PRP'),\n",
              "  ('is', 'VBZ'),\n",
              "  ('a', 'DT'),\n",
              "  ('forward', 'NN'),\n",
              "  ('and', 'CC'),\n",
              "  ('serves', 'NNS'),\n",
              "  ('as', 'IN'),\n",
              "  ('captain', 'NN'),\n",
              "  ('for', 'IN'),\n",
              "  ('Portugal', 'NNP'),\n",
              "  ('.', '.')],\n",
              " [('In', 'IN'),\n",
              "  ('2008', 'CD'),\n",
              "  (',', ','),\n",
              "  ('he', 'PRP'),\n",
              "  ('won', 'VBD'),\n",
              "  ('his', 'PRP$'),\n",
              "  ('first', 'JJ'),\n",
              "  ('Ballon', 'NNP'),\n",
              "  (\"d'Or\", 'NN'),\n",
              "  ('and', 'CC'),\n",
              "  ('FIFA', 'NNP'),\n",
              "  ('World', 'NNP'),\n",
              "  ('Player', 'NNP'),\n",
              "  ('of', 'IN'),\n",
              "  ('the', 'DT'),\n",
              "  ('Year', 'NN'),\n",
              "  ('awards', 'NNS'),\n",
              "  ('.', '.')],\n",
              " [('He', 'PRP'),\n",
              "  ('then', 'RB'),\n",
              "  ('won', 'VBD'),\n",
              "  ('the', 'DT'),\n",
              "  ('FIFA', 'NNP'),\n",
              "  ('Ballon', 'NNP'),\n",
              "  (\"d'Or\", 'NN'),\n",
              "  ('in', 'IN'),\n",
              "  ('2013', 'CD'),\n",
              "  ('and', 'CC'),\n",
              "  ('2014', 'CD'),\n",
              "  ('.', '.')],\n",
              " [('In', 'IN'),\n",
              "  ('2015', 'CD'),\n",
              "  (',', ','),\n",
              "  ('Ronaldo', 'NNP'),\n",
              "  ('scored', 'VBD'),\n",
              "  ('his', 'PRP$'),\n",
              "  ('500th', 'JJ'),\n",
              "  ('senior', 'JJ'),\n",
              "  ('career', 'NN'),\n",
              "  ('goal', 'NN'),\n",
              "  ('for', 'IN'),\n",
              "  ('club', 'NN'),\n",
              "  ('and', 'CC'),\n",
              "  ('country', 'NN'),\n",
              "  ('.', '.')],\n",
              " [('Often', 'RB'),\n",
              "  ('ranked', 'VBN'),\n",
              "  ('as', 'IN'),\n",
              "  ('the', 'DT'),\n",
              "  ('best', 'JJS'),\n",
              "  ('player', 'NN'),\n",
              "  ('in', 'IN'),\n",
              "  ('the', 'DT'),\n",
              "  ('world', 'NN'),\n",
              "  (',', ','),\n",
              "  ('Ronaldo', 'NNP'),\n",
              "  ('was', 'VBD'),\n",
              "  ('named', 'VBN'),\n",
              "  ('the', 'DT'),\n",
              "  ('best', 'JJS'),\n",
              "  ('Portuguese', 'JJ'),\n",
              "  ('player', 'NN'),\n",
              "  ('of', 'IN'),\n",
              "  ('all', 'DT'),\n",
              "  ('time', 'NN'),\n",
              "  ('by', 'IN'),\n",
              "  ('the', 'DT'),\n",
              "  ('Portuguese', 'NNP'),\n",
              "  ('Football', 'NNP'),\n",
              "  ('Federation', 'NNP'),\n",
              "  (',', ','),\n",
              "  ('during', 'IN'),\n",
              "  ('its', 'PRP$'),\n",
              "  ('100th', 'JJ'),\n",
              "  ('anniversary', 'JJ'),\n",
              "  ('celebrations', 'NNS'),\n",
              "  ('in', 'IN'),\n",
              "  ('2015', 'CD'),\n",
              "  ('.', '.')],\n",
              " [('He', 'PRP'),\n",
              "  ('is', 'VBZ'),\n",
              "  ('the', 'DT'),\n",
              "  ('only', 'JJ'),\n",
              "  ('player', 'NN'),\n",
              "  ('to', 'TO'),\n",
              "  ('win', 'VB'),\n",
              "  ('four', 'CD'),\n",
              "  ('European', 'JJ'),\n",
              "  ('Golden', 'NNP'),\n",
              "  ('Shoe', 'NNP'),\n",
              "  ('awards', 'NNS'),\n",
              "  ('.', '.')],\n",
              " [('One', 'CD'),\n",
              "  ('of', 'IN'),\n",
              "  ('the', 'DT'),\n",
              "  ('most', 'RBS'),\n",
              "  ('marketable', 'JJ'),\n",
              "  ('athletes', 'NNS'),\n",
              "  ('in', 'IN'),\n",
              "  ('sport', 'NN'),\n",
              "  (',', ','),\n",
              "  ('in', 'IN'),\n",
              "  ('2016', 'CD'),\n",
              "  ('Forbes', 'NNP'),\n",
              "  ('named', 'VBD'),\n",
              "  ('Ronaldo', 'NNP'),\n",
              "  ('the', 'DT'),\n",
              "  ('world', 'NN'),\n",
              "  (\"'s\", 'POS'),\n",
              "  ('best', 'JJS'),\n",
              "  ('paid', 'VBD'),\n",
              "  ('athlete', 'NN'),\n",
              "  ('.', '.')],\n",
              " [('In', 'IN'),\n",
              "  ('June', 'NNP'),\n",
              "  ('2016', 'CD'),\n",
              "  (',', ','),\n",
              "  ('ESPN', 'NNP'),\n",
              "  ('ranked', 'VBD'),\n",
              "  ('him', 'PRP'),\n",
              "  ('the', 'DT'),\n",
              "  ('world', 'NN'),\n",
              "  (\"'s\", 'POS'),\n",
              "  ('most', 'RBS'),\n",
              "  ('famous', 'JJ'),\n",
              "  ('athlete', 'NN'),\n",
              "  ('.', '.')],\n",
              " [('Ronaldo', 'NNP'),\n",
              "  ('began', 'VBD'),\n",
              "  ('his', 'PRP$'),\n",
              "  ('club', 'NN'),\n",
              "  ('career', 'NN'),\n",
              "  ('playing', 'NN'),\n",
              "  ('for', 'IN'),\n",
              "  ('Sporting', 'VBG'),\n",
              "  ('CP', 'NNP'),\n",
              "  (',', ','),\n",
              "  ('before', 'IN'),\n",
              "  ('signing', 'VBG'),\n",
              "  ('with', 'IN'),\n",
              "  ('Manchester', 'NNP'),\n",
              "  ('United', 'NNP'),\n",
              "  ('at', 'IN'),\n",
              "  ('age', 'NN'),\n",
              "  ('18', 'CD'),\n",
              "  ('in', 'IN'),\n",
              "  ('2003', 'CD'),\n",
              "  ('.', '.')],\n",
              " [('After', 'IN'),\n",
              "  ('winning', 'VBG'),\n",
              "  ('his', 'PRP$'),\n",
              "  ('first', 'JJ'),\n",
              "  ('trophy', 'NN'),\n",
              "  (',', ','),\n",
              "  ('the', 'DT'),\n",
              "  ('FA', 'NNP'),\n",
              "  ('Cup', 'NNP'),\n",
              "  (',', ','),\n",
              "  ('during', 'IN'),\n",
              "  ('his', 'PRP$'),\n",
              "  ('first', 'JJ'),\n",
              "  ('season', 'NN'),\n",
              "  ('in', 'IN'),\n",
              "  ('England', 'NNP'),\n",
              "  (',', ','),\n",
              "  ('he', 'PRP'),\n",
              "  ('helped', 'VBD'),\n",
              "  ('United', 'NNP'),\n",
              "  ('win', 'VB'),\n",
              "  ('three', 'CD'),\n",
              "  ('successive', 'JJ'),\n",
              "  ('Premier', 'NNP'),\n",
              "  ('League', 'NNP'),\n",
              "  ('titles', 'NNS'),\n",
              "  (',', ','),\n",
              "  ('a', 'DT'),\n",
              "  ('UEFA', 'NNP'),\n",
              "  ('Champions', 'NNP'),\n",
              "  ('League', 'NNP'),\n",
              "  ('title', 'NN'),\n",
              "  (',', ','),\n",
              "  ('and', 'CC'),\n",
              "  ('a', 'DT'),\n",
              "  ('FIFA', 'NNP'),\n",
              "  ('Club', 'NNP'),\n",
              "  ('World', 'NNP'),\n",
              "  ('Cup', 'NNP'),\n",
              "  ('.', '.')],\n",
              " [('By', 'IN'),\n",
              "  ('age', 'NN'),\n",
              "  ('23', 'CD'),\n",
              "  (',', ','),\n",
              "  ('he', 'PRP'),\n",
              "  ('had', 'VBD'),\n",
              "  ('received', 'VBN'),\n",
              "  ('Ballon', 'NNP'),\n",
              "  (\"d'Or\", 'NN'),\n",
              "  ('and', 'CC'),\n",
              "  ('FIFA', 'NNP'),\n",
              "  ('World', 'NNP'),\n",
              "  ('Player', 'NNP'),\n",
              "  ('of', 'IN'),\n",
              "  ('the', 'DT'),\n",
              "  ('Year', 'NNP'),\n",
              "  ('nominations', 'NNS'),\n",
              "  ('.', '.')],\n",
              " [('He', 'PRP'),\n",
              "  ('was', 'VBD'),\n",
              "  ('the', 'DT'),\n",
              "  ('subject', 'NN'),\n",
              "  ('of', 'IN'),\n",
              "  ('the', 'DT'),\n",
              "  ('most', 'RBS'),\n",
              "  ('expensive', 'JJ'),\n",
              "  ('association', 'NN'),\n",
              "  ('football', 'NN'),\n",
              "  ('transfer', 'NN'),\n",
              "  ('when', 'WRB'),\n",
              "  ('he', 'PRP'),\n",
              "  ('moved', 'VBD'),\n",
              "  ('from', 'IN'),\n",
              "  ('Manchester', 'NNP'),\n",
              "  ('United', 'NNP'),\n",
              "  ('to', 'TO'),\n",
              "  ('Real', 'VB'),\n",
              "  ('Madrid', 'NNP'),\n",
              "  ('in', 'IN'),\n",
              "  ('2009', 'CD'),\n",
              "  ('in', 'IN'),\n",
              "  ('a', 'DT'),\n",
              "  ('transfer', 'NN'),\n",
              "  ('worth', 'JJ'),\n",
              "  ('€94', 'CD'),\n",
              "  ('million', 'CD'),\n",
              "  ('(', '('),\n",
              "  ('$', '$'),\n",
              "  ('132', 'CD'),\n",
              "  ('million', 'CD'),\n",
              "  (')', ')'),\n",
              "  ('.', '.')],\n",
              " [('In', 'IN'),\n",
              "  ('Spain', 'NNP'),\n",
              "  (',', ','),\n",
              "  ('he', 'PRP'),\n",
              "  ('has', 'VBZ'),\n",
              "  ('since', 'IN'),\n",
              "  ('won', 'VBN'),\n",
              "  ('one', 'CD'),\n",
              "  ('La', 'NNP'),\n",
              "  ('Liga', 'NNP'),\n",
              "  ('title', 'NN'),\n",
              "  (',', ','),\n",
              "  ('two', 'CD'),\n",
              "  ('Copas', 'NNP'),\n",
              "  ('del', 'FW'),\n",
              "  ('Rey', 'NNP'),\n",
              "  (',', ','),\n",
              "  ('two', 'CD'),\n",
              "  ('Champions', 'NNP'),\n",
              "  ('League', 'NNP'),\n",
              "  ('titles', 'NNS'),\n",
              "  (',', ','),\n",
              "  ('and', 'CC'),\n",
              "  ('a', 'DT'),\n",
              "  ('Club', 'NNP'),\n",
              "  ('World', 'NNP'),\n",
              "  ('Cup', 'NNP'),\n",
              "  ('.', '.')],\n",
              " [('Ronaldo', 'NNP'),\n",
              "  ('holds', 'VBZ'),\n",
              "  ('the', 'DT'),\n",
              "  ('record', 'NN'),\n",
              "  ('for', 'IN'),\n",
              "  ('most', 'JJS'),\n",
              "  ('goals', 'NNS'),\n",
              "  ('scored', 'VBN'),\n",
              "  ('in', 'IN'),\n",
              "  ('a', 'DT'),\n",
              "  ('single', 'JJ'),\n",
              "  ('UEFA', 'NNP'),\n",
              "  ('Champions', 'NNP'),\n",
              "  ('League', 'NNP'),\n",
              "  ('season', 'NN'),\n",
              "  (',', ','),\n",
              "  ('having', 'VBG'),\n",
              "  ('scored', 'VBN'),\n",
              "  ('17', 'CD'),\n",
              "  ('goals', 'NNS'),\n",
              "  ('in', 'IN'),\n",
              "  ('the', 'DT'),\n",
              "  ('2013–14', 'CD'),\n",
              "  ('season', 'NN'),\n",
              "  ('.', '.')],\n",
              " [('In', 'IN'),\n",
              "  ('2014', 'CD'),\n",
              "  (',', ','),\n",
              "  ('Ronaldo', 'NNP'),\n",
              "  ('became', 'VBD'),\n",
              "  ('the', 'DT'),\n",
              "  ('fastest', 'JJS'),\n",
              "  ('player', 'NN'),\n",
              "  ('to', 'TO'),\n",
              "  ('score', 'VB'),\n",
              "  ('200', 'CD'),\n",
              "  ('goals', 'NNS'),\n",
              "  ('in', 'IN'),\n",
              "  ('La', 'NNP'),\n",
              "  ('Liga', 'NNP'),\n",
              "  (',', ','),\n",
              "  ('which', 'WDT'),\n",
              "  ('he', 'PRP'),\n",
              "  ('accomplished', 'VBD'),\n",
              "  ('in', 'IN'),\n",
              "  ('his', 'PRP$'),\n",
              "  ('178th', 'CD'),\n",
              "  ('La', 'NNP'),\n",
              "  ('Liga', 'NNP'),\n",
              "  ('game', 'NN'),\n",
              "  ('.', '.')],\n",
              " [('He', 'PRP'),\n",
              "  ('is', 'VBZ'),\n",
              "  ('the', 'DT'),\n",
              "  ('only', 'JJ'),\n",
              "  ('player', 'NN'),\n",
              "  ('in', 'IN'),\n",
              "  ('the', 'DT'),\n",
              "  ('history', 'NN'),\n",
              "  ('of', 'IN'),\n",
              "  ('football', 'NN'),\n",
              "  ('to', 'TO'),\n",
              "  ('score', 'VB'),\n",
              "  ('50', 'CD'),\n",
              "  ('or', 'CC'),\n",
              "  ('more', 'JJR'),\n",
              "  ('goals', 'NNS'),\n",
              "  ('in', 'IN'),\n",
              "  ('a', 'DT'),\n",
              "  ('season', 'NN'),\n",
              "  ('on', 'IN'),\n",
              "  ('six', 'CD'),\n",
              "  ('consecutive', 'JJ'),\n",
              "  ('occasions', 'NNS'),\n",
              "  ('.', '.')],\n",
              " [('In', 'IN'),\n",
              "  ('2015', 'CD'),\n",
              "  (',', ','),\n",
              "  ('Ronaldo', 'NNP'),\n",
              "  ('became', 'VBD'),\n",
              "  ('the', 'DT'),\n",
              "  ('all-time', 'JJ'),\n",
              "  ('top', 'JJ'),\n",
              "  ('goalscorer', 'NN'),\n",
              "  ('in', 'IN'),\n",
              "  ('the', 'DT'),\n",
              "  ('UEFA', 'NNP'),\n",
              "  ('Champions', 'NNP'),\n",
              "  ('League', 'NNP'),\n",
              "  (',', ','),\n",
              "  ('and', 'CC'),\n",
              "  ('he', 'PRP'),\n",
              "  ('also', 'RB'),\n",
              "  ('became', 'VBD'),\n",
              "  ('Real', 'NNP'),\n",
              "  ('Madrid', 'NNP'),\n",
              "  (\"'s\", 'POS'),\n",
              "  ('all-time', 'JJ'),\n",
              "  ('leading', 'JJ'),\n",
              "  ('goalscorer', 'NN'),\n",
              "  ('.', '.')],\n",
              " [('He', 'PRP'),\n",
              "  ('is', 'VBZ'),\n",
              "  ('the', 'DT'),\n",
              "  ('second', 'JJ'),\n",
              "  ('highest', 'JJS'),\n",
              "  ('goalscorer', 'NN'),\n",
              "  ('in', 'IN'),\n",
              "  ('La', 'NNP'),\n",
              "  ('Liga', 'NNP'),\n",
              "  ('history', 'NN'),\n",
              "  ('behind', 'IN'),\n",
              "  ('Lionel', 'NNP'),\n",
              "  ('Messi', 'NNP'),\n",
              "  (',', ','),\n",
              "  ('his', 'PRP$'),\n",
              "  ('perceived', 'JJ'),\n",
              "  ('career', 'NN'),\n",
              "  ('rival', 'NN'),\n",
              "  ('.', '.')],\n",
              " [('Ronaldo', 'NNP'),\n",
              "  ('made', 'VBD'),\n",
              "  ('his', 'PRP$'),\n",
              "  ('international', 'JJ'),\n",
              "  ('debut', 'NN'),\n",
              "  ('for', 'IN'),\n",
              "  ('Portugal', 'NNP'),\n",
              "  ('in', 'IN'),\n",
              "  ('August', 'NNP'),\n",
              "  ('2003', 'CD'),\n",
              "  (',', ','),\n",
              "  ('at', 'IN'),\n",
              "  ('the', 'DT'),\n",
              "  ('age', 'NN'),\n",
              "  ('of', 'IN'),\n",
              "  ('18', 'CD'),\n",
              "  ('.', '.')],\n",
              " [('He', 'PRP'),\n",
              "  ('is', 'VBZ'),\n",
              "  ('Portugal', 'NNP'),\n",
              "  (\"'s\", 'POS'),\n",
              "  ('most', 'JJS'),\n",
              "  ('capped', 'JJ'),\n",
              "  ('player', 'NN'),\n",
              "  ('of', 'IN'),\n",
              "  ('all', 'DT'),\n",
              "  ('time', 'NN'),\n",
              "  ('with', 'IN'),\n",
              "  ('over', 'IN'),\n",
              "  ('130', 'CD'),\n",
              "  ('caps', 'NNS'),\n",
              "  (',', ','),\n",
              "  ('and', 'CC'),\n",
              "  ('has', 'VBZ'),\n",
              "  ('participated', 'VBN'),\n",
              "  ('in', 'IN'),\n",
              "  ('seven', 'CD'),\n",
              "  ('major', 'JJ'),\n",
              "  ('tournaments', 'NNS'),\n",
              "  (':', ':'),\n",
              "  ('four', 'CD'),\n",
              "  ('UEFA', 'IN'),\n",
              "  ('European', 'JJ'),\n",
              "  ('Championships', 'NNP'),\n",
              "  ('(', '('),\n",
              "  ('2004', 'CD'),\n",
              "  (',', ','),\n",
              "  ('2008', 'CD'),\n",
              "  (',', ','),\n",
              "  ('2012', 'CD'),\n",
              "  ('and', 'CC'),\n",
              "  ('2016', 'CD'),\n",
              "  (')', ')'),\n",
              "  ('and', 'CC'),\n",
              "  ('three', 'CD'),\n",
              "  ('FIFA', 'NNP'),\n",
              "  ('World', 'NNP'),\n",
              "  ('Cups', 'NNP'),\n",
              "  ('(', '('),\n",
              "  ('2006', 'CD'),\n",
              "  (',', ','),\n",
              "  ('2010', 'CD'),\n",
              "  ('and', 'CC'),\n",
              "  ('2014', 'CD'),\n",
              "  (')', ')'),\n",
              "  ('.', '.')],\n",
              " [('He', 'PRP'),\n",
              "  ('is', 'VBZ'),\n",
              "  ('the', 'DT'),\n",
              "  ('first', 'JJ'),\n",
              "  ('Portuguese', 'NNP'),\n",
              "  ('player', 'NN'),\n",
              "  ('to', 'TO'),\n",
              "  ('reach', 'VB'),\n",
              "  ('50', 'CD'),\n",
              "  ('international', 'JJ'),\n",
              "  ('goals', 'NNS'),\n",
              "  (',', ','),\n",
              "  ('making', 'VBG'),\n",
              "  ('him', 'PRP'),\n",
              "  ('Portugal', 'NNP'),\n",
              "  (\"'s\", 'POS'),\n",
              "  ('all-time', 'JJ'),\n",
              "  ('top', 'JJ'),\n",
              "  ('goalscorer', 'NN'),\n",
              "  ('.', '.')],\n",
              " [('He', 'PRP'),\n",
              "  ('scored', 'VBD'),\n",
              "  ('his', 'PRP$'),\n",
              "  ('first', 'JJ'),\n",
              "  ('international', 'JJ'),\n",
              "  ('goal', 'NN'),\n",
              "  ('in', 'IN'),\n",
              "  ('Euro', 'NNP'),\n",
              "  ('2004', 'CD'),\n",
              "  ('and', 'CC'),\n",
              "  ('helped', 'VBD'),\n",
              "  ('Portugal', 'NNP'),\n",
              "  ('reach', 'VB'),\n",
              "  ('the', 'DT'),\n",
              "  ('final', 'JJ'),\n",
              "  ('.', '.')],\n",
              " [('He', 'PRP'),\n",
              "  ('took', 'VBD'),\n",
              "  ('over', 'RP'),\n",
              "  ('captaincy', 'NN'),\n",
              "  ('in', 'IN'),\n",
              "  ('July', 'NNP'),\n",
              "  ('2008', 'CD'),\n",
              "  (',', ','),\n",
              "  ('and', 'CC'),\n",
              "  ('he', 'PRP'),\n",
              "  ('led', 'VBD'),\n",
              "  ('Portugal', 'NNP'),\n",
              "  ('to', 'TO'),\n",
              "  ('the', 'DT'),\n",
              "  ('semi-finals', 'NNS'),\n",
              "  ('at', 'IN'),\n",
              "  ('Euro', 'NNP'),\n",
              "  ('2012', 'CD'),\n",
              "  (',', ','),\n",
              "  ('finishing', 'VBG'),\n",
              "  ('the', 'DT'),\n",
              "  ('competition', 'NN'),\n",
              "  ('as', 'IN'),\n",
              "  ('joint-top', 'JJ'),\n",
              "  ('scorer', 'NN'),\n",
              "  ('.', '.')],\n",
              " [('In', 'IN'),\n",
              "  ('November', 'NNP'),\n",
              "  ('2014', 'CD'),\n",
              "  (',', ','),\n",
              "  ('Ronaldo', 'NNP'),\n",
              "  ('became', 'VBD'),\n",
              "  ('the', 'DT'),\n",
              "  ('all-time', 'JJ'),\n",
              "  ('top', 'JJ'),\n",
              "  ('scorer', 'NN'),\n",
              "  ('in', 'IN'),\n",
              "  ('the', 'DT'),\n",
              "  ('UEFA', 'NNP'),\n",
              "  ('European', 'NNP'),\n",
              "  ('Championship', 'NNP'),\n",
              "  ('(', '('),\n",
              "  ('including', 'VBG'),\n",
              "  ('qualifying', 'VBG'),\n",
              "  (')', ')'),\n",
              "  ('with', 'IN'),\n",
              "  ('23', 'CD'),\n",
              "  ('goals', 'NNS'),\n",
              "  ('.', '.')],\n",
              " [('At', 'IN'),\n",
              "  ('Euro', 'NNP'),\n",
              "  ('2016', 'CD'),\n",
              "  (',', ','),\n",
              "  ('he', 'PRP'),\n",
              "  ('became', 'VBD'),\n",
              "  ('the', 'DT'),\n",
              "  ('most', 'RBS'),\n",
              "  ('capped', 'JJ'),\n",
              "  ('player', 'NN'),\n",
              "  ('of', 'IN'),\n",
              "  ('all-time', 'NN'),\n",
              "  ('in', 'IN'),\n",
              "  ('the', 'DT'),\n",
              "  ('tournament', 'NN'),\n",
              "  (',', ','),\n",
              "  ('the', 'DT'),\n",
              "  ('first', 'JJ'),\n",
              "  ('player', 'NN'),\n",
              "  ('to', 'TO'),\n",
              "  ('score', 'VB'),\n",
              "  ('at', 'IN'),\n",
              "  ('four', 'CD'),\n",
              "  ('consecutive', 'JJ'),\n",
              "  ('European', 'JJ'),\n",
              "  ('Championship', 'NNP'),\n",
              "  ('finals', 'NNS'),\n",
              "  (',', ','),\n",
              "  ('and', 'CC'),\n",
              "  ('also', 'RB'),\n",
              "  ('equalled', 'VBD'),\n",
              "  ('Michel', 'NNP'),\n",
              "  ('Platini', 'NNP'),\n",
              "  (\"'s\", 'POS'),\n",
              "  ('all-time', 'JJ'),\n",
              "  ('record', 'NN'),\n",
              "  ('for', 'IN'),\n",
              "  ('most', 'JJS'),\n",
              "  ('goals', 'NNS'),\n",
              "  ('scored', 'VBN'),\n",
              "  ('in', 'IN'),\n",
              "  ('the', 'DT'),\n",
              "  ('competition', 'NN'),\n",
              "  ('.', '.')],\n",
              " [('Ronaldo', 'NNP'),\n",
              "  ('lifted', 'VBD'),\n",
              "  ('the', 'DT'),\n",
              "  ('trophy', 'NN'),\n",
              "  ('after', 'IN'),\n",
              "  ('Portugal', 'NNP'),\n",
              "  ('defeated', 'VBD'),\n",
              "  ('France', 'NNP'),\n",
              "  ('in', 'IN'),\n",
              "  ('the', 'DT'),\n",
              "  ('final', 'JJ'),\n",
              "  (',', ','),\n",
              "  ('and', 'CC'),\n",
              "  ('he', 'PRP'),\n",
              "  ('received', 'VBD'),\n",
              "  ('the', 'DT'),\n",
              "  ('Silver', 'NNP'),\n",
              "  ('Boot', 'NNP'),\n",
              "  ('as', 'IN'),\n",
              "  ('one', 'CD'),\n",
              "  ('of', 'IN'),\n",
              "  ('the', 'DT'),\n",
              "  ('second-highest', 'JJ'),\n",
              "  ('goalscorers', 'NNS'),\n",
              "  ('of', 'IN'),\n",
              "  ('the', 'DT'),\n",
              "  ('tournament', 'NN'),\n",
              "  ('.', '.')]]"
            ]
          },
          "metadata": {
            "tags": []
          },
          "execution_count": 56
        }
      ]
    },
    {
      "metadata": {
        "id": "OMw70Wm8_WU-",
        "colab_type": "text"
      },
      "cell_type": "markdown",
      "source": [
        "Expected output\n",
        " [...[('He', 'PRP'),\n",
        "  ('is', 'VBZ'),\n",
        "  ('a', 'DT'),\n",
        "  ('forward', 'NN'),\n",
        "  ('and', 'CC'),\n",
        "  ('serves', 'NNS'),\n",
        "  ('as', 'IN'),\n",
        "  ('captain', 'NN'),\n",
        "  ('for', 'IN'),\n",
        "  ('Portugal', 'NNP'),\n",
        "  ('.', '.')], ...]"
      ]
    },
    {
      "metadata": {
        "id": "tYTwrZId_WU_",
        "colab_type": "text"
      },
      "cell_type": "markdown",
      "source": [
        "# Task 2 (20 Marks)\n",
        "Write a function that will take the list of tokens with POS tags for each sentence and returns the named entities (NE). \n",
        "\n",
        "Hint: Use binary=True while calling NE chunk function"
      ]
    },
    {
      "metadata": {
        "id": "5fC0iqJJ_WU_",
        "colab_type": "code",
        "colab": {}
      },
      "cell_type": "code",
      "source": [
        "#Expanded the Named_Entity_Finding function to be able to take in binary false and true, and also specify NE or person etc\n",
        "def named_entity_finding(pos_sent, x , y):  # Code goes here\n",
        "    named_entities = []\n",
        "    if x is True:\n",
        "        tree = nltk.ne_chunk(pos_sent, binary=True)\n",
        "        last_value = \"\"\n",
        "        for subtree in tree.subtrees():\n",
        "            if subtree.label() == 'NE':\n",
        "                entity = \"\"\n",
        "                for leaf in subtree.leaves():\n",
        "                    entity = entity + leaf[0] + \" \"\n",
        "                named_entities.append(entity.strip())\n",
        "        return named_entities\n",
        "\n",
        "    elif x is False and y == \"All\":\n",
        "        tree = nltk.ne_chunk(pos_sent, binary=False)\n",
        "        for subtree in tree.subtrees():\n",
        "            if subtree.label() == 'PERSON':\n",
        "                entity = \"\"\n",
        "                for leaf in subtree.leaves():\n",
        "                    entity = entity + leaf[0] + \" \"\n",
        "                    named_entities.append(entity.strip())\n",
        "\n",
        "            elif subtree.label() == 'ORGANIZATION':\n",
        "                    entity = \"\"\n",
        "                    for leaf in subtree.leaves():\n",
        "                        entity = entity + leaf[0] + \" \"\n",
        "                        named_entities.append(entity.strip())\n",
        "\n",
        "            elif subtree.label() == 'GPE':\n",
        "                    entity = \"\"\n",
        "                    for leaf in subtree.leaves():\n",
        "                        entity = entity + leaf[0] + \" \"\n",
        "                        named_entities.append(entity.strip())\n",
        "\n",
        "    elif x is True and y == \"NE\":\n",
        "        tree = nltk.ne_chunk(pos_sent, binary=False)\n",
        "        for subtree in tree.subtrees():\n",
        "            if subtree.label() == 'NNP':\n",
        "                for leaf in subtree.leaves():\n",
        "                    if leaf[1] == 'NNP':\n",
        "                        named_entities.append(leaf[0])\n",
        "    return named_entities\n"
      ],
      "execution_count": 0,
      "outputs": []
    },
    {
      "metadata": {
        "id": "VWzPmpWu0JhJ",
        "colab_type": "code",
        "outputId": "22252b53-f950-4df3-8ce9-f37bd342f3cd",
        "colab": {
          "base_uri": "https://localhost:8080/",
          "height": 153
        }
      },
      "cell_type": "code",
      "source": [
        "pos_sents=ie_preprocess(first_doc)\n",
        "named_entity_finding(pos_sents[0], True, \"\")"
      ],
      "execution_count": 58,
      "outputs": [
        {
          "output_type": "execute_result",
          "data": {
            "text/plain": [
              "['Cristiano Ronaldo',\n",
              " 'Santos Aveiro',\n",
              " 'ComM',\n",
              " 'GOIH',\n",
              " 'Portuguese',\n",
              " 'Spanish',\n",
              " 'Real Madrid',\n",
              " 'Portugal']"
            ]
          },
          "metadata": {
            "tags": []
          },
          "execution_count": 58
        }
      ]
    },
    {
      "metadata": {
        "id": "K3f4m2Iy0LXZ",
        "colab_type": "text"
      },
      "cell_type": "markdown",
      "source": [
        "Expected output ['Cristiano Ronaldo', 'Santos Aveiro', 'ComM', 'GOIH', 'Portuguese', 'Spanish', 'Real Madrid', 'Portugal']"
      ]
    },
    {
      "metadata": {
        "id": "XHMp7xtK_WVE",
        "colab_type": "text"
      },
      "cell_type": "markdown",
      "source": [
        "# Task 3 (10 Marks)\n",
        "\n",
        "Now use the named_entity_finding() function to extract all NEs for each document.\n",
        "\n",
        "Hint: pos_sents holds the list of lists of tokens with POS tags"
      ]
    },
    {
      "metadata": {
        "id": "TwFlzQx4_WVF",
        "colab_type": "code",
        "colab": {}
      },
      "cell_type": "code",
      "source": [
        "def NE_flat_list_fn(pos_sents):\n",
        "    NE = []\n",
        "    for pos_sent in pos_sents:\n",
        "        pos_sent = ie_preprocess(pos_sent)\n",
        "        for pos in pos_sent:\n",
        "            named_ents = named_entity_finding(pos, True, \"\")\n",
        "            NE.append(named_ents)\n",
        "        NE_flat_list = [val for sublist in NE for val in sublist]\n",
        "        NE_flat_list = list(NE_flat_list)\n",
        "    return NE_flat_list\n",
        "\n",
        "\n"
      ],
      "execution_count": 0,
      "outputs": []
    },
    {
      "metadata": {
        "id": "Ra9hfEUT1J4T",
        "colab_type": "code",
        "outputId": "8070ea06-a17b-4e33-b117-90246e1441ce",
        "colab": {
          "base_uri": "https://localhost:8080/",
          "height": 54
        }
      },
      "cell_type": "code",
      "source": [
        "print(NE_flat_list_fn(list_of_doc))"
      ],
      "execution_count": 60,
      "outputs": [
        {
          "output_type": "stream",
          "text": [
            "['Cristiano Ronaldo', 'Santos Aveiro', 'ComM', 'GOIH', 'Portuguese', 'Spanish', 'Real Madrid', 'Portugal', 'Portugal', 'Ballon', 'FIFA', 'FIFA Ballon', 'Ronaldo', 'Ronaldo', 'Portuguese', 'Portuguese Football Federation', 'European Golden Shoe', 'ESPN', 'Ronaldo', 'Manchester United', 'England', 'United', 'UEFA Champions League', 'FIFA Club', 'Ballon', 'FIFA', 'Manchester United', 'Madrid', 'Spain', 'Ronaldo', 'UEFA Champions League', 'Ronaldo', 'La Liga', 'Ronaldo', 'UEFA Champions League', 'Real Madrid', 'La Liga', 'Lionel Messi', 'Ronaldo', 'Portugal', 'Portugal', 'European', 'FIFA World Cups', 'Portuguese', 'Portugal', 'Portugal', 'Portugal', 'Ronaldo', 'UEFA European', 'European', 'Michel Platini', 'Ronaldo', 'Portugal', 'France', 'Silver Boot', 'Lionel Andrés Leo Messi', 'Spanish', 'Argentina', 'Messi', 'FIFA Ballons', 'European Golden Shoes', 'Messi', 'La Liga', 'La Liga', 'Copa América', 'Born', 'Argentina', 'Messi', 'Spain', 'Barcelona', 'Barcelona', 'Messi', 'Ballon', 'FIFA', 'Barcelona', 'Spanish', 'Messi', 'Ballon', 'FIFA', 'Messi', 'FIFA Ballons', 'European', 'Barcelona', 'Ballon', 'Cristiano Ronaldo', 'Messi', 'Champions League', 'Barcelona', 'European', 'Messi', 'FIFA World Youth Championship', 'Golden Ball', 'Golden Shoe', 'Diego Maradona', 'Messi', 'FIFA', 'Argentina', 'Golden Ball', 'Neymar', 'Silva Santos Júnior', 'Neymar', 'Neymar Jr.', 'Brazilian', 'Spanish', 'Brazil', 'Neymar', 'Santos', 'Campeonato Paulista', 'Brasil', 'Santos', 'Neymar', 'South American Footballer', 'Europe', 'Barcelona', 'Barça', 'Lionel Messi', 'Luis Suárez', 'UEFA Champions League', 'FIFA Ballon', 'Brazil', 'Neymar', 'Brazil', 'South American Youth Championship', 'FIFA Confederations Cup', 'Golden Ball', 'FIFA', 'Brazil', 'Neymar', 'Brazil', 'Santos', 'SportsPro', 'ESPN', 'Ronaldo', 'Ronaldinho', 'Brazilian', 'Portuguese', 'Ronaldinho Gaúcho', 'Brazilian', 'Spanish', 'FIFA', 'Ronaldinho', 'Ronaldinho', 'Ronaldo', 'Brazilian', 'Gaúcho', 'Ronaldo', 'Ronaldinho', 'Brazil', 'Ronaldo', 'Europe', 'Ronaldinho', 'Gaúcho', 'Ronaldinho', 'Brazil', 'FIFA World', 'Korea', 'Japan', 'Ronaldo', 'Rivaldo', 'FIFA', 'Ronaldinho', 'Brazilian', 'European', 'Paris', 'Barcelona', 'Milan', 'Brazil', 'Flamengo', 'Atlético Mineiro', 'Mexico', 'Querétaro', 'Barcelona', 'UEFA Champions League', 'FIFA', 'Ballon', 'Ronaldinho', 'Pelé', 'FIFPro World', 'Wayne Mark Rooney', 'England', 'Rooney', 'Everton', 'Merseyside', 'Manchester United', 'Rooney', 'United', 'UEFA Champions League', 'FIFA Club', 'Football League', 'Rooney', 'Rooney', 'England', 'England', 'UEFA Euro', 'European Championship', 'Rooney', 'England Player', 'Rooney', 'England', 'David Beckham', 'Rooney', 'England', 'Rooney', 'PFA Players', 'FWA Footballer', 'Steven Gerrard', 'FIFA Ballon', 'FIFPro', 'Rooney', 'Season', 'BBC', 'Zlatan Ibrahimović', 'Swedish', 'Sweden', 'Ibrahimović', 'Malmö FF', 'Ajax', 'Juventus', 'Serie', 'David Trezeguet', 'UEFA Team', 'Ibrahimović', 'Barcelona', 'Serie', 'Milan', 'Paris', 'PSG', 'Ibrahimović', 'France', 'PSG', 'PSG', 'Ibrahimović', 'Swedish', 'Sweden', 'FIFA World Cups', 'Guldbollen', 'Golden Ball', 'Swedish', 'Marco', 'Basten', 'Ibrahimović', 'Sweden', 'England', 'FIFA Puskás Award', 'Goal', 'Ibrahimović', 'Guardian', 'Lionel Messi', 'Cristiano Ronaldo', 'Swedish', 'Dagens Nyheter', 'Swedish', 'Björn Borg', 'David Robert Joseph Beckham', 'OBE', 'Preston North End', 'Real Madrid', 'Milan', 'LA Galaxy', 'Paris', 'England', 'Wayne Rooney', 'England', 'Spain', 'United States', 'France', 'Beckham', 'FIFA', 'Beckham', 'Manchester United', 'United', 'UEFA Champions League', 'Real Madrid', 'Beckham', 'Major League Soccer', 'Galaxy', 'Italy', 'Milan', 'British', 'Beckham', 'England', 'FIFA', 'European', 'Beckham', 'Victoria Beckham', 'UNICEF UK', 'David Beckham', 'UNICEF Fund', 'MLS', 'Beckham', 'Miami', 'Mesut Özil', 'German', 'English', 'German', 'Özil', 'German', 'FIFA', 'Golden Ball Award', 'Özil', 'Werder Bremen', 'Real Madrid', 'FIFA', 'Germany', 'Arsenal', 'German', 'Özil', 'José Mourinho', 'Real Madrid', 'Zinedine Zidane', 'Özil', 'European', 'La Liga', 'Özil', 'FIFA', 'UEFA Euro', 'Gareth Frank Bale', 'Spanish', 'Real Madrid', 'Wales', 'Bale', 'Southampton', 'Bale', 'Tottenham Hotspur', 'Tottenham', 'Harry Redknapp', 'Bale', 'PFA Players', 'UEFA Team', 'PFA Young Player', 'FWA Footballer', 'Bale', 'Madrid', 'Cristiano Ronaldo', 'Bale', 'Real Madrid', 'UEFA Champions League', 'UEFA Super Cup', 'FIFA Club', 'UEFA Squad', 'Season', 'ESPN', 'Bale', 'Bale', 'Wales', 'Ian Rush', 'Wales', 'UEFA Euro', 'Andrés Iniesta Luján', 'Spanish', 'FC Barcelona', 'Spain', 'Barcelona', 'Iniesta', 'Barcelona', 'Iniesta', 'Barcelona', 'Spanish', 'Iniesta', 'Spain', 'Spain', 'Iniesta', 'Spanish', 'Netherlands', 'Match', 'Iniesta', 'Spain', 'Italy', 'Iniesta', 'UEFA Team', 'FIFA World XI', 'Iniesta', 'UEFA Best Player', 'Europe', 'IFFHS World', 'Lionel Messi', 'FIFA Ballon']\n"
          ],
          "name": "stdout"
        }
      ]
    },
    {
      "metadata": {
        "id": "l7-ma9lJ_WVJ",
        "colab_type": "text"
      },
      "cell_type": "markdown",
      "source": [
        "# Task 4 (40 Marks)\n",
        "\n",
        "Write functions to extract the name of the player, country of origin and date of birth as well as the following relations: team(s) of the player and position(s) of the player.\n",
        "\n",
        "Hint: Use the re.compile() function to create the extraction patterns\n",
        "\n",
        "Reference: https://docs.python.org/3/howto/regex.html"
      ]
    },
    {
      "metadata": {
        "id": "NiVTeV3N1cPa",
        "colab_type": "code",
        "colab": {}
      },
      "cell_type": "code",
      "source": [
        "def name_of_the_player(doc):\n",
        "    x = 0\n",
        "    k = 0\n",
        "    names_out = []\n",
        "    doc = ie_preprocess(doc)\n",
        "    for d in doc:\n",
        "        if x == \"break\":\n",
        "            return names_out\n",
        "\n",
        "        name_list = named_entity_finding(d, True, \"NE\")\n",
        "        name_holder = \" \".join(name_list)\n",
        "        name_holder = name_holder.rstrip()\n",
        "        name_holder = name_holder.lstrip()\n",
        "        name_split = name_holder.split(\" \")\n",
        "        names = []\n",
        "        for j in name_split:\n",
        "            names.append(j)\n",
        "            if k == 3:\n",
        "                break\n",
        "            k = k + 1\n",
        "\n",
        "        for name in names:\n",
        "            if name in countries:\n",
        "                names.remove(name)\n",
        "            elif name in clubs:\n",
        "                names.remove(name)\n",
        "            elif name in nationalities:\n",
        "                names.remove(name)\n",
        "\n",
        "        for name in names:\n",
        "            if name in countries:\n",
        "                names.remove(name)\n",
        "            elif name in clubs:\n",
        "                names.remove(name)\n",
        "            elif name in nationalities:\n",
        "                names.remove(name)\n",
        "\n",
        "        seen = set()\n",
        "        names = [x for x in names if not (x in seen or seen.add(x))]\n",
        "        names_out = \" \".join(names)\n",
        "        x == \"break\"\n",
        "        return names_out\n"
      ],
      "execution_count": 0,
      "outputs": []
    },
    {
      "metadata": {
        "id": "e6ZkUHfK1jKv",
        "colab_type": "code",
        "outputId": "7b230feb-7437-4702-e892-13ead75b535c",
        "colab": {
          "base_uri": "https://localhost:8080/",
          "height": 34
        }
      },
      "cell_type": "code",
      "source": [
        "print(name_of_the_player(first_doc))"
      ],
      "execution_count": 62,
      "outputs": [
        {
          "output_type": "stream",
          "text": [
            "Cristiano Ronaldo Santos Aveiro\n"
          ],
          "name": "stdout"
        }
      ]
    },
    {
      "metadata": {
        "id": "RJYh-kdc12Mr",
        "colab_type": "code",
        "colab": {}
      },
      "cell_type": "code",
      "source": [
        "def country_of_origin(doc):\n",
        "    coo_out = []\n",
        "    r1 = re.compile('is a\\s+((?:[\\S,]+\\s+))professional footballer')\n",
        "    coo1 = r1.findall(doc)\n",
        "\n",
        "    r2 = re.compile(r'is a\\s+((?:[\\S,]+\\s+))footballer')\n",
        "    coo2 = r2.findall(doc)\n",
        "\n",
        "    r3 = re.compile(r'is a\\s+((?:[\\S,]+\\s+))former professional footballer')\n",
        "    coo3 = r3.findall(doc)\n",
        "\n",
        "    r4 = re.compile(r'the\\s+((?:[\\S,]+\\s+))national team')\n",
        "    coo4 = r4.findall(doc)\n",
        "\n",
        "    if re.search(r1, doc):\n",
        "        coo = coo1\n",
        "    elif re.search(r2, doc):\n",
        "        coo = coo2\n",
        "    elif re.search(r3, doc):\n",
        "        coo = coo3\n",
        "    elif re.search(r4, doc):\n",
        "        coo = coo4\n",
        "\n",
        "    coo_out = \" \".join(coo)\n",
        "    return coo_out"
      ],
      "execution_count": 0,
      "outputs": []
    },
    {
      "metadata": {
        "id": "u5W4bYN713X8",
        "colab_type": "code",
        "outputId": "6b932dcc-a164-46f5-d08c-595cee9b0d34",
        "colab": {
          "base_uri": "https://localhost:8080/",
          "height": 34
        }
      },
      "cell_type": "code",
      "source": [
        "print(country_of_origin(first_doc))"
      ],
      "execution_count": 64,
      "outputs": [
        {
          "output_type": "stream",
          "text": [
            "Portuguese \n"
          ],
          "name": "stdout"
        }
      ]
    },
    {
      "metadata": {
        "id": "Est1FXpk2I6u",
        "colab_type": "code",
        "colab": {}
      },
      "cell_type": "code",
      "source": [
        "def date_of_birth(doc):\n",
        "    dob_sentences = nltk.word_tokenize(doc)\n",
        "    r = re.compile(r'\\(born (.*?)\\)')\n",
        "    date = r.findall(doc)\n",
        "    date_out = \" \".join(date)\n",
        "    return date_out"
      ],
      "execution_count": 0,
      "outputs": []
    },
    {
      "metadata": {
        "id": "wk30O3RW2OEv",
        "colab_type": "code",
        "outputId": "59447598-7b25-4df3-fe7b-4c0f9ca09555",
        "colab": {
          "base_uri": "https://localhost:8080/",
          "height": 34
        }
      },
      "cell_type": "code",
      "source": [
        "print(date_of_birth(first_doc))"
      ],
      "execution_count": 66,
      "outputs": [
        {
          "output_type": "stream",
          "text": [
            "5 February 1985\n"
          ],
          "name": "stdout"
        }
      ]
    },
    {
      "metadata": {
        "id": "OpvRgaKT2T9q",
        "colab_type": "code",
        "colab": {}
      },
      "cell_type": "code",
      "source": [
        "def team_of_the_player(doc):\n",
        "    team_hold = []\n",
        "    team = []\n",
        "    teams = []\n",
        "    docs = nltk.sent_tokenize(doc)\n",
        "    docs_word = nltk.word_tokenize(doc)\n",
        "    j = 0\n",
        "    for doc in docs_word:\n",
        "      # if player is currently not playing for a team, \"played\" is invalid for them, then they are retired.\n",
        "        if doc == \"plays\" or doc == \"retired\":\n",
        "            j = j+1\n",
        "    if j == 0:\n",
        "        teams.append(\"Retired\")\n",
        "        teams_out = \" \".join(teams)\n",
        "        return teams_out\n",
        "    all_ne = []\n",
        "    i = 0\n",
        "    for d in docs:\n",
        "        if i == 2:\n",
        "            break\n",
        "        else:\n",
        "            d_pos = nltk.word_tokenize(d)\n",
        "            d_pos = nltk.pos_tag(d_pos)\n",
        "            ne_finding = named_entity_finding(d_pos, False, \"All\")\n",
        "            all_ne.append(ne_finding)\n",
        "\n",
        "            national_team = re.compile(r'((?:[\\S,]+\\s+){0,1})national team')\n",
        "            national_team = national_team.findall(d)\n",
        "            team_hold.append(national_team)\n",
        "\n",
        "            club_team1 = re.compile('club\\s+((?:[\\S,]+\\s*){0,1})')\n",
        "            club_team = club_team1.findall(d)\n",
        "            if re.search(club_team1, d):\n",
        "                for club in club_team:\n",
        "                    if club.rstrip() == \"FC\" or club.rstrip() == \"Manchester\" or club.rstrip() == \"Real\":\n",
        "                        club_team = re.compile('club\\s+((?:[\\S,]+\\s*){0,2})')\n",
        "                        club_team = club_team.findall(d)\n",
        "                else:\n",
        "                    team_hold.append(club_team)\n",
        "\n",
        "            club_team2 = re.compile(r'for\\s+((?:[\\S,]+\\s*){0,1}).')\n",
        "            club_team_ = club_team2.findall(d)\n",
        "            if re.search(club_team2, d):\n",
        "                for club in club_team_:\n",
        "                    if club.rstrip() == \"FC\" or club.rstrip() == \"Manchester\" or club.rstrip() == \"Real\":\n",
        "                        club_team2 = re.compile('for\\s+((?:[\\S,]+\\s*){0,2}).')\n",
        "                        club_team_ = club_team2.findall(d)\n",
        "                        team_hold.append(club_team_)\n",
        "\n",
        "\n",
        "        i = i + 1\n",
        "    team_hold = [x for x in team_hold if x]\n",
        "\n",
        "    for sublist in team_hold:\n",
        "        for item in sublist:\n",
        "            team.append(item.rstrip())\n",
        "\n",
        "    all_ne_c = []\n",
        "    for sublist in all_ne:\n",
        "        for item in sublist:\n",
        "            all_ne_c.append(item)\n",
        "\n",
        "    for item in team:\n",
        "        if item in all_ne_c:\n",
        "            teams.append(item)\n",
        "    teams = set(teams)\n",
        "    teams_out = \", \".join(teams)\n",
        "    return teams_out"
      ],
      "execution_count": 0,
      "outputs": []
    },
    {
      "metadata": {
        "id": "42IdXkX12czn",
        "colab_type": "code",
        "outputId": "3c6c124f-e9a8-4299-e4ae-4a2577fde5c0",
        "colab": {
          "base_uri": "https://localhost:8080/",
          "height": 34
        }
      },
      "cell_type": "code",
      "source": [
        "print(team_of_the_player(first_doc))"
      ],
      "execution_count": 68,
      "outputs": [
        {
          "output_type": "stream",
          "text": [
            "Portugal, Real Madrid\n"
          ],
          "name": "stdout"
        }
      ]
    },
    {
      "metadata": {
        "id": "AG7H_uVT2moz",
        "colab_type": "code",
        "colab": {}
      },
      "cell_type": "code",
      "source": [
        "def position_of_the_player(doc): #code goes here\n",
        "    # code goes here\n",
        "    position_array = []\n",
        "    position_out = []\n",
        "    for position in position_list:\n",
        "        r = re.compile(position)\n",
        "        find = r.findall(doc)\n",
        "        position_array.append(find)\n",
        "\n",
        "    position_array = [x for x in position_array if x != []]\n",
        "\n",
        "    for position in position_array:\n",
        "        position = set(position)\n",
        "        position_out.append(position)\n",
        "\n",
        "    position_array = [x for x in position_array if x]\n",
        "    if len(position_array) == 0:\n",
        "        position_array.append(\"Position Data Not Available\")\n",
        "\n",
        "    position_out = [val for sublist in position_out for val in sublist]\n",
        "    return position_out"
      ],
      "execution_count": 0,
      "outputs": []
    },
    {
      "metadata": {
        "id": "jp1fqtnV2ucM",
        "colab_type": "code",
        "outputId": "82979882-8df8-4231-c6f3-c894b70abaf4",
        "colab": {
          "base_uri": "https://localhost:8080/",
          "height": 34
        }
      },
      "cell_type": "code",
      "source": [
        "print(position_of_the_player(first_doc))"
      ],
      "execution_count": 70,
      "outputs": [
        {
          "output_type": "stream",
          "text": [
            "['forward']\n"
          ],
          "name": "stdout"
        }
      ]
    },
    {
      "metadata": {
        "id": "sCYflDpp_WVU",
        "colab_type": "text"
      },
      "cell_type": "markdown",
      "source": [
        "# Task 5 (10 Marks)\n",
        "\n",
        "Write a function using the outputs from the previous functions to generate JSON-LD output as follows.\n",
        "\n",
        "Reference: https://json-ld.org/primer/latest/\n",
        "\n",
        "{ \"@id\": \"http://my-soccer-ontology.com/footballer/name_of_the_player\",\n",
        "\n",
        "    \"name\": \"\",\n",
        "    \"born\": \"\",\n",
        "    \"country\": \"\",\n",
        "    \"position\": [\n",
        "        { \"@id\": \"http://my-soccer-ontology.com/position\",\n",
        "            \"type\": \"\"\n",
        "        }\n",
        "     ]   \n",
        "     \"team\": [\n",
        "        { \"@id\": \"http://my-soccer-ontology.com/team\",\n",
        "            \"name\": \"\"\n",
        "        }   \n",
        "     ]\n",
        "}\n"
      ]
    },
    {
      "metadata": {
        "id": "z8HStdlu_WVU",
        "colab_type": "code",
        "colab": {
          "base_uri": "https://localhost:8080/",
          "height": 34
        },
        "outputId": "a529b750-957c-4484-9163-0223656b8582"
      },
      "cell_type": "code",
      "source": [
        "def generator(doc):\n",
        "    arg_name = name_of_the_player(doc)\n",
        "    arg_name = arg_name.replace(\"ê\",\"e\").replace(\"é\",\"e\").replace(\"ú\",\"u\").replace(\"ć\",\"c\").replace(\"ö\",\"o\").replace(\"Ö\",\"O\")\n",
        "    arg_club = team_of_the_player(doc)\n",
        "    arg_club = arg_club.replace(\"ê\",\"e\").replace(\"é\",\"e\").replace(\"ú\",\"u\").replace(\"ć\",\"c\").replace(\"ö\",\"o\").replace(\"Ö\",\"O\")\n",
        "    \n",
        "    holder = [arg_name, date_of_birth(doc), country_of_origin(doc), position_of_the_player(doc), arg_club]\n",
        "    return holder\n",
        "\n",
        "\n",
        "holder = generator(list_of_doc[0])\n",
        "print(holder)\n"
      ],
      "execution_count": 73,
      "outputs": [
        {
          "output_type": "stream",
          "text": [
            "['Cristiano Ronaldo Santos Aveiro', '5 February 1985', 'Portuguese ', ['forward'], 'Portugal, Real Madrid']\n"
          ],
          "name": "stdout"
        }
      ]
    },
    {
      "metadata": {
        "id": "yKifT_QdDSAD",
        "colab_type": "code",
        "colab": {}
      },
      "cell_type": "code",
      "source": [
        "def generate_jsonId(data):\n",
        "    ld = {\"@id\": \"http://my-soccer-ontology.com/footballer/\" + data[0],\n",
        "\n",
        "          \"name\": data[0],\n",
        "          \"born\": data[1],\n",
        "          \"country\": data[2],\n",
        "          \"position\": [\n",
        "              {\"@id\": \"http://my-soccer-ontology.com/position/\",\n",
        "               \"type\": data[3]\n",
        "               }\n",
        "          ],\n",
        "          \"team\": [\n",
        "              {\"@id\": \"http://my-soccer-ontology.com/team/\",\n",
        "               \"name\": data[4]\n",
        "               }\n",
        "          ]\n",
        "          }\n",
        "\n",
        "    return json.dumps(ld)\n",
        "  "
      ],
      "execution_count": 0,
      "outputs": []
    },
    {
      "metadata": {
        "id": "YOmw9Rcm3AKc",
        "colab_type": "code",
        "outputId": "e9efc7bf-2f55-4e6f-a81d-65b915c94262",
        "colab": {
          "base_uri": "https://localhost:8080/",
          "height": 54
        }
      },
      "cell_type": "code",
      "source": [
        "print(generate_jsonId(holder))"
      ],
      "execution_count": 75,
      "outputs": [
        {
          "output_type": "stream",
          "text": [
            "{\"@id\": \"http://my-soccer-ontology.com/footballer/Cristiano Ronaldo Santos Aveiro\", \"name\": \"Cristiano Ronaldo Santos Aveiro\", \"born\": \"5 February 1985\", \"country\": \"Portuguese \", \"position\": [{\"@id\": \"http://my-soccer-ontology.com/position/\", \"type\": [\"forward\"]}], \"team\": [{\"@id\": \"http://my-soccer-ontology.com/team/\", \"name\": \"Portugal, Real Madrid\"}]}\n"
          ],
          "name": "stdout"
        }
      ]
    },
    {
      "metadata": {
        "id": "i3VtWxBr_WVZ",
        "colab_type": "text"
      },
      "cell_type": "markdown",
      "source": [
        "# Task 6 (10 Marks)\n",
        "Identify one other relation (besides team and player) and write a function to extract this. Also extend the JSON-LD output accordingly."
      ]
    },
    {
      "metadata": {
        "id": "TR0GZrUB_WVa",
        "colab_type": "code",
        "colab": {}
      },
      "cell_type": "code",
      "source": [
        "def international_club_debut(doc):\n",
        "    club_holder = []\n",
        "    club_debut = []\n",
        "    international_debut = []\n",
        "    international_holder = []\n",
        "\n",
        "    numeric = re.compile('\\d{4}')\n",
        "    r1 = re.compile('international debut\\s+((?:[\\S,]+\\s*){0,6})')\n",
        "    debut1 = r1.findall(doc)\n",
        "\n",
        "    r2 = re.compile('club debut\\s+((?:[\\S,]+\\s*){0,6})')\n",
        "    debut2 = r2.findall(doc)\n",
        "\n",
        "    r3 = re.compile('professional debut\\s+((?:[\\S,]+\\s*){0,6})')\n",
        "    debut3 = r3.findall(doc)\n",
        "\n",
        "    r4 = re.compile('competitive debut\\s+((?:[\\S,]+\\s*){0,6})')\n",
        "    debut4 = r4.findall(doc)\n",
        "\n",
        "    r5 = re.compile('England debut on\\s+((?:[\\S,]+\\s*){0,10})')\n",
        "    debut5 = r5.findall(doc)\n",
        "\n",
        "    r6 = re.compile('first-team debut\\s+((?:[\\S,]+\\s*){0,8})')\n",
        "    debut6 = r6.findall(doc)\n",
        "\n",
        "    if re.search(r1, doc):\n",
        "        international_debut = debut1\n",
        "    if re.search(r2, doc):\n",
        "        club_debut = debut2\n",
        "    if re.search(r3, doc):\n",
        "        club_debut = debut3\n",
        "    if re.search(r4, doc):\n",
        "        club_debut = debut4\n",
        "    if re.search(r5, doc):\n",
        "        international_debut = debut5\n",
        "    if re.search(r6, doc):\n",
        "        club_debut = debut6\n",
        "\n",
        "    if re.search(r1, doc) or re.search(r5, doc):\n",
        "        for international_tokens in international_debut:\n",
        "            international_tokens = nltk.word_tokenize(international_tokens)\n",
        "        each_international= []\n",
        "        for each in international_tokens:\n",
        "            each_international.append(each.rstrip())\n",
        "        for word in each_international:\n",
        "            if re.findall(numeric, word):\n",
        "                international_holder.append(word)\n",
        "\n",
        "    if len(international_holder) == 0:\n",
        "        international_holder.append((\"NA\"))\n",
        "\n",
        "    if re.search(r2, doc) or re.search(r3, doc) or re.search(r4, doc) or re.search(r6, doc):\n",
        "        for club_tokens in club_debut:\n",
        "            club_tokens = nltk.word_tokenize(club_tokens)\n",
        "        each_club = []\n",
        "        for each in club_tokens:\n",
        "            each_club.append(each.rstrip())\n",
        "        for word in each_club:\n",
        "            if re.findall(numeric, word):\n",
        "                club_holder.append(word)\n",
        "\n",
        "    if len(club_holder) == 0:\n",
        "        club_holder.append((\"NA\"))\n",
        "\n",
        "    return \"International Debut Year:\",international_holder,\"Club Debut Year:\",club_holder"
      ],
      "execution_count": 0,
      "outputs": []
    },
    {
      "metadata": {
        "id": "qteQG9ezGAN-",
        "colab_type": "code",
        "colab": {
          "base_uri": "https://localhost:8080/",
          "height": 54
        },
        "outputId": "bafacbc9-38c2-4581-d490-a0381767a658"
      },
      "cell_type": "code",
      "source": [
        "def generator2(doc):\n",
        "  \n",
        "    arg_name = name_of_the_player(doc)\n",
        "    arg_name = arg_name.replace(\"ê\",\"e\").replace(\"é\",\"e\").replace(\"ú\",\"u\").replace(\"ć\",\"c\").replace(\"ö\",\"o\").replace(\"Ö\",\"O\")\n",
        "    arg_club = team_of_the_player(doc)\n",
        "    arg_club = arg_club.replace(\"ê\",\"e\").replace(\"é\",\"e\").replace(\"ú\",\"u\").replace(\"ć\",\"c\").replace(\"ö\",\"o\").replace(\"Ö\",\"O\")\n",
        "    \n",
        "    holder = [arg_name, date_of_birth(doc), country_of_origin(doc), position_of_the_player(doc), arg_club ,international_club_debut(doc) ]\n",
        "    return holder\n",
        "\n",
        "\n",
        "holder2 = generator2(list_of_doc[0])\n",
        "print(holder2)"
      ],
      "execution_count": 79,
      "outputs": [
        {
          "output_type": "stream",
          "text": [
            "['Cristiano Ronaldo Santos Aveiro', '5 February 1985', 'Portuguese ', ['forward'], 'Portugal, Real Madrid', ('International Debut Year:', ['2003'], 'Club Debut Year:', ['NA'])]\n"
          ],
          "name": "stdout"
        }
      ]
    },
    {
      "metadata": {
        "id": "ceFWIy623gXI",
        "colab_type": "code",
        "colab": {}
      },
      "cell_type": "code",
      "source": [
        "def generate_jsonId2(data):\n",
        "    ld = {\"@id\": \"http://my-soccer-ontology.com/footballer/\" + data[0],\n",
        "\n",
        "          \"name\": data[0],\n",
        "          \"born\": data[1],\n",
        "          \"country\": data[2],\n",
        "          \"position\": [\n",
        "              {\"@id\": \"http://my-soccer-ontology.com/position/\",\n",
        "               \"type\": data[3]\n",
        "               }\n",
        "          ],\n",
        "          \"team\": [\n",
        "              {\"@id\": \"http://my-soccer-ontology.com/team/\",\n",
        "               \"name\": data[4],\n",
        "               \"debut\" : data[5]\n",
        "               }\n",
        "          ]\n",
        "          }\n",
        "\n",
        "    return json.dumps(ld)"
      ],
      "execution_count": 0,
      "outputs": []
    },
    {
      "metadata": {
        "id": "6BPUWZjh3mPa",
        "colab_type": "code",
        "outputId": "5ba2418d-7574-45b3-cb03-5f387f1b0ab9",
        "colab": {
          "base_uri": "https://localhost:8080/",
          "height": 54
        }
      },
      "cell_type": "code",
      "source": [
        "print(generate_jsonId2(holder2))"
      ],
      "execution_count": 81,
      "outputs": [
        {
          "output_type": "stream",
          "text": [
            "{\"@id\": \"http://my-soccer-ontology.com/footballer/Cristiano Ronaldo Santos Aveiro\", \"name\": \"Cristiano Ronaldo Santos Aveiro\", \"born\": \"5 February 1985\", \"country\": \"Portuguese \", \"position\": [{\"@id\": \"http://my-soccer-ontology.com/position/\", \"type\": [\"forward\"]}], \"team\": [{\"@id\": \"http://my-soccer-ontology.com/team/\", \"name\": \"Portugal, Real Madrid\", \"debut\": [\"International Debut Year:\", [\"2003\"], \"Club Debut Year:\", [\"NA\"]]}]}\n"
          ],
          "name": "stdout"
        }
      ]
    }
  ]
}